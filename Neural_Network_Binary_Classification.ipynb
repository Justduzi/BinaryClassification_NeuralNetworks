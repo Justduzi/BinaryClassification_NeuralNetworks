{
  "nbformat": 4,
  "nbformat_minor": 0,
  "metadata": {
    "colab": {
      "name": "Neural Network Classification ",
      "provenance": [],
      "collapsed_sections": [],
      "authorship_tag": "ABX9TyOFopIT3OhhLcseIv+oSGD2",
      "include_colab_link": true
    },
    "kernelspec": {
      "name": "python3",
      "display_name": "Python 3"
    },
    "language_info": {
      "name": "python"
    }
  },
  "cells": [
    {
      "cell_type": "markdown",
      "metadata": {
        "id": "view-in-github",
        "colab_type": "text"
      },
      "source": [
        "<a href=\"https://colab.research.google.com/github/Justduzi/BinaryClassification_NeuralNetworks/blob/main/Neural_Network_Binary_Classification.ipynb\" target=\"_parent\"><img src=\"https://colab.research.google.com/assets/colab-badge.svg\" alt=\"Open In Colab\"/></a>"
      ]
    },
    {
      "cell_type": "markdown",
      "source": [
        "##Creating data to view and fit"
      ],
      "metadata": {
        "id": "FmuC_eRh8sgX"
      }
    },
    {
      "cell_type": "code",
      "source": [
        "from sklearn.datasets import make_circles \n",
        "\n",
        "#make 1000 examples\n",
        "n_samples = 1000\n",
        "\n",
        "#create circles\n",
        "X, y = make_circles(n_samples, noise=0.03, random_state=42)"
      ],
      "metadata": {
        "id": "-axoG9HO8wor"
      },
      "execution_count": 4,
      "outputs": []
    },
    {
      "cell_type": "code",
      "source": [
        "#Check out features\n",
        "X"
      ],
      "metadata": {
        "colab": {
          "base_uri": "https://localhost:8080/"
        },
        "id": "CE3G44sxCKcz",
        "outputId": "b4df9db5-84e8-4d44-8bde-0d29204c4f06"
      },
      "execution_count": 5,
      "outputs": [
        {
          "output_type": "execute_result",
          "data": {
            "text/plain": [
              "array([[ 0.75424625,  0.23148074],\n",
              "       [-0.75615888,  0.15325888],\n",
              "       [-0.81539193,  0.17328203],\n",
              "       ...,\n",
              "       [-0.13690036, -0.81001183],\n",
              "       [ 0.67036156, -0.76750154],\n",
              "       [ 0.28105665,  0.96382443]])"
            ]
          },
          "metadata": {},
          "execution_count": 5
        }
      ]
    },
    {
      "cell_type": "code",
      "source": [
        "#Check out Labels\n",
        "y"
      ],
      "metadata": {
        "colab": {
          "base_uri": "https://localhost:8080/"
        },
        "id": "9OZVHTVYCNuP",
        "outputId": "31148490-5e7a-48b6-ec9f-0ede34570d97"
      },
      "execution_count": 6,
      "outputs": [
        {
          "output_type": "execute_result",
          "data": {
            "text/plain": [
              "array([1, 1, 1, 1, 0, 1, 1, 1, 1, 0, 1, 0, 1, 1, 1, 1, 0, 1, 1, 0, 1, 0,\n",
              "       0, 1, 0, 0, 0, 1, 1, 1, 0, 0, 1, 0, 0, 0, 1, 1, 1, 0, 0, 0, 0, 1,\n",
              "       0, 0, 1, 1, 0, 1, 1, 1, 0, 1, 0, 0, 1, 0, 0, 1, 0, 0, 1, 0, 1, 1,\n",
              "       1, 1, 0, 1, 0, 0, 1, 1, 0, 0, 1, 0, 1, 0, 1, 0, 0, 0, 0, 1, 1, 1,\n",
              "       1, 0, 0, 0, 1, 0, 1, 0, 1, 0, 0, 1, 1, 0, 1, 0, 1, 1, 1, 1, 0, 1,\n",
              "       1, 1, 1, 1, 0, 0, 0, 1, 1, 0, 1, 0, 1, 0, 0, 1, 1, 0, 1, 1, 1, 1,\n",
              "       0, 1, 1, 0, 0, 0, 0, 0, 0, 0, 1, 0, 1, 1, 1, 0, 1, 0, 1, 0, 1, 0,\n",
              "       1, 0, 0, 1, 0, 1, 1, 1, 1, 1, 1, 1, 0, 1, 0, 0, 0, 0, 0, 1, 0, 0,\n",
              "       0, 0, 1, 1, 0, 1, 0, 1, 1, 0, 0, 0, 1, 1, 1, 1, 1, 0, 0, 0, 0, 0,\n",
              "       1, 0, 0, 1, 1, 1, 1, 1, 0, 1, 0, 1, 0, 0, 1, 1, 1, 0, 1, 0, 1, 1,\n",
              "       0, 1, 1, 0, 1, 0, 1, 0, 1, 1, 0, 1, 0, 1, 0, 0, 0, 1, 0, 0, 0, 0,\n",
              "       1, 1, 0, 0, 0, 0, 0, 0, 0, 1, 1, 1, 0, 0, 1, 1, 1, 0, 1, 0, 0, 0,\n",
              "       0, 1, 1, 0, 1, 0, 0, 0, 1, 0, 1, 0, 0, 1, 0, 1, 1, 1, 0, 0, 0, 1,\n",
              "       0, 0, 0, 1, 1, 1, 1, 0, 0, 0, 1, 0, 0, 0, 1, 0, 0, 0, 1, 1, 0, 1,\n",
              "       1, 1, 1, 1, 1, 1, 0, 0, 0, 0, 1, 0, 0, 0, 0, 1, 1, 1, 0, 0, 1, 0,\n",
              "       1, 0, 1, 1, 0, 0, 1, 1, 1, 1, 0, 0, 0, 0, 0, 0, 1, 1, 0, 1, 0, 0,\n",
              "       1, 0, 0, 0, 0, 0, 0, 0, 0, 1, 0, 0, 0, 0, 1, 0, 0, 1, 0, 1, 0, 0,\n",
              "       0, 1, 0, 0, 1, 1, 0, 0, 1, 0, 0, 1, 1, 0, 1, 1, 0, 0, 1, 0, 1, 0,\n",
              "       0, 0, 1, 1, 0, 0, 1, 1, 1, 1, 1, 0, 0, 1, 1, 1, 1, 0, 1, 1, 1, 1,\n",
              "       1, 0, 0, 1, 0, 1, 0, 0, 0, 0, 1, 0, 0, 0, 0, 0, 0, 0, 0, 0, 1, 1,\n",
              "       0, 1, 1, 1, 1, 1, 1, 0, 1, 1, 1, 1, 0, 0, 0, 1, 1, 1, 0, 0, 0, 0,\n",
              "       1, 1, 0, 0, 0, 0, 1, 0, 0, 0, 1, 0, 0, 1, 1, 1, 1, 1, 1, 0, 0, 0,\n",
              "       1, 0, 0, 0, 0, 0, 1, 1, 1, 0, 0, 0, 0, 0, 1, 1, 1, 0, 0, 1, 1, 1,\n",
              "       1, 0, 1, 1, 0, 1, 0, 0, 0, 1, 0, 0, 1, 0, 0, 1, 1, 0, 0, 1, 1, 0,\n",
              "       1, 0, 1, 0, 1, 0, 1, 0, 0, 0, 1, 0, 0, 0, 0, 0, 0, 1, 1, 1, 1, 0,\n",
              "       0, 0, 1, 0, 1, 1, 0, 0, 0, 0, 0, 1, 1, 1, 0, 0, 1, 0, 0, 1, 0, 0,\n",
              "       1, 0, 0, 1, 0, 0, 0, 1, 0, 0, 1, 1, 1, 0, 1, 1, 0, 0, 0, 1, 1, 1,\n",
              "       1, 0, 0, 1, 1, 1, 0, 0, 0, 0, 1, 1, 0, 0, 1, 1, 0, 0, 1, 1, 1, 1,\n",
              "       1, 1, 1, 0, 1, 0, 1, 0, 0, 1, 0, 1, 1, 1, 1, 0, 0, 1, 1, 0, 0, 1,\n",
              "       0, 1, 0, 0, 0, 1, 0, 0, 1, 1, 1, 1, 0, 1, 1, 1, 1, 1, 1, 1, 0, 1,\n",
              "       0, 1, 1, 1, 0, 0, 1, 0, 0, 0, 1, 1, 1, 1, 0, 0, 0, 0, 1, 0, 1, 1,\n",
              "       1, 0, 1, 0, 0, 1, 0, 0, 1, 1, 1, 1, 1, 0, 1, 0, 0, 0, 1, 1, 1, 1,\n",
              "       1, 0, 0, 0, 1, 1, 1, 1, 0, 0, 0, 0, 0, 1, 1, 0, 1, 0, 1, 0, 0, 0,\n",
              "       0, 0, 0, 0, 0, 0, 1, 1, 1, 1, 1, 0, 1, 0, 1, 1, 1, 1, 0, 1, 1, 1,\n",
              "       1, 1, 1, 1, 1, 0, 1, 1, 0, 1, 0, 0, 0, 1, 0, 1, 1, 1, 0, 1, 1, 0,\n",
              "       1, 1, 0, 1, 0, 1, 1, 0, 0, 1, 1, 1, 0, 0, 0, 0, 1, 1, 0, 0, 1, 1,\n",
              "       1, 1, 1, 1, 1, 1, 1, 1, 1, 1, 1, 1, 0, 0, 1, 0, 1, 0, 1, 0, 1, 1,\n",
              "       1, 1, 1, 1, 0, 1, 0, 1, 1, 1, 0, 1, 1, 0, 0, 1, 0, 1, 1, 0, 0, 1,\n",
              "       1, 1, 1, 1, 1, 1, 1, 0, 1, 1, 1, 0, 1, 0, 0, 1, 1, 0, 0, 0, 1, 0,\n",
              "       0, 1, 0, 0, 0, 1, 0, 1, 0, 0, 0, 0, 1, 0, 1, 1, 1, 1, 0, 1, 0, 0,\n",
              "       0, 0, 0, 0, 1, 0, 1, 0, 1, 0, 1, 1, 1, 0, 1, 0, 1, 0, 0, 1, 1, 1,\n",
              "       0, 0, 0, 1, 1, 0, 1, 0, 1, 1, 0, 1, 0, 0, 1, 1, 1, 0, 0, 0, 1, 1,\n",
              "       0, 0, 0, 0, 0, 1, 1, 0, 1, 0, 0, 0, 1, 0, 0, 0, 1, 1, 1, 1, 0, 1,\n",
              "       1, 1, 0, 1, 1, 1, 1, 0, 1, 1, 0, 1, 1, 0, 0, 1, 1, 1, 0, 0, 0, 0,\n",
              "       0, 0, 1, 0, 0, 1, 0, 0, 0, 1, 0, 1, 0, 1, 1, 0, 0, 0, 0, 0, 0, 0,\n",
              "       0, 1, 0, 1, 0, 0, 0, 1, 0, 0])"
            ]
          },
          "metadata": {},
          "execution_count": 6
        }
      ]
    },
    {
      "cell_type": "code",
      "source": [
        "import matplotlib.pyplot as plt\n",
        "plt.scatter(X[:, 0], X[:,1], c =y, cmap=plt.cm.RdYlBu)"
      ],
      "metadata": {
        "colab": {
          "base_uri": "https://localhost:8080/",
          "height": 282
        },
        "id": "7kMZBablDF6o",
        "outputId": "43f6d5e0-cd8e-4ac5-d18a-465a191fff66"
      },
      "execution_count": 7,
      "outputs": [
        {
          "output_type": "execute_result",
          "data": {
            "text/plain": [
              "<matplotlib.collections.PathCollection at 0x7f51713f39d0>"
            ]
          },
          "metadata": {},
          "execution_count": 7
        },
        {
          "output_type": "display_data",
          "data": {
            "text/plain": [
              "<Figure size 432x288 with 1 Axes>"
            ],
            "image/png": "[encoded data removed]"
          },
          "metadata": {
            "needs_background": "light"
          }
        }
      ]
    },
    {
      "cell_type": "code",
      "source": [
        "#Check the shape of our feautures and labels\n",
        "X.shape, y.shape"
      ],
      "metadata": {
        "colab": {
          "base_uri": "https://localhost:8080/"
        },
        "id": "Pa-MSgxvEYHl",
        "outputId": "f3dc5455-1e44-454c-a067-fe492b5c5768"
      },
      "execution_count": 8,
      "outputs": [
        {
          "output_type": "execute_result",
          "data": {
            "text/plain": [
              "((1000, 2), (1000,))"
            ]
          },
          "metadata": {},
          "execution_count": 8
        }
      ]
    },
    {
      "cell_type": "code",
      "source": [
        "#how many smaples are we wroking on\n",
        "len(X), len(y)"
      ],
      "metadata": {
        "colab": {
          "base_uri": "https://localhost:8080/"
        },
        "id": "-0byv_0zEepH",
        "outputId": "6758d5bf-0082-4f07-f952-a6ef0d789879"
      },
      "execution_count": 9,
      "outputs": [
        {
          "output_type": "execute_result",
          "data": {
            "text/plain": [
              "(1000, 1000)"
            ]
          },
          "metadata": {},
          "execution_count": 9
        }
      ]
    },
    {
      "cell_type": "code",
      "source": [
        "import tensorflow as tf\n"
      ],
      "metadata": {
        "id": "lzBS5ZzbGD4C"
      },
      "execution_count": 10,
      "outputs": []
    },
    {
      "cell_type": "code",
      "source": [
        "#set random seed\n",
        "tf.random.set_seed(42)\n",
        "#Create model using sequential api\n",
        "model_1 = tf.keras.Sequential([\n",
        "    tf.keras.layers.Dense(1)\n",
        "])\n",
        "#Compile model\n",
        "model_1.compile(loss=tf.keras.losses.BinaryCrossentropy(),\n",
        "                optimizer=tf.keras.optimizers.SGD(),\n",
        "                metrics=[\"accuracy\"])\n",
        "#Fit model\n",
        "model_1.fit(X, y, epochs=5)"
      ],
      "metadata": {
        "colab": {
          "base_uri": "https://localhost:8080/"
        },
        "id": "O3l5QlxsEwIf",
        "outputId": "8b3e24f6-7e62-4a8a-befe-eabfe5af98f6"
      },
      "execution_count": 11,
      "outputs": [
        {
          "output_type": "stream",
          "name": "stdout",
          "text": [
            "Epoch 1/5\n",
            "32/32 [==============================] - 1s 2ms/step - loss: 2.8544 - accuracy: 0.4600\n",
            "Epoch 2/5\n",
            "32/32 [==============================] - 0s 2ms/step - loss: 0.7131 - accuracy: 0.5430\n",
            "Epoch 3/5\n",
            "32/32 [==============================] - 0s 2ms/step - loss: 0.6973 - accuracy: 0.5090\n",
            "Epoch 4/5\n",
            "32/32 [==============================] - 0s 2ms/step - loss: 0.6950 - accuracy: 0.5010\n",
            "Epoch 5/5\n",
            "32/32 [==============================] - 0s 2ms/step - loss: 0.6942 - accuracy: 0.4830\n"
          ]
        },
        {
          "output_type": "execute_result",
          "data": {
            "text/plain": [
              "<keras.callbacks.History at 0x7f5107d34790>"
            ]
          },
          "metadata": {},
          "execution_count": 11
        }
      ]
    },
    {
      "cell_type": "code",
      "source": [
        "#Lets try and improe our model by increasing epochs\n",
        "model_1.fit(X, y, epochs=200, verbose=0)\n",
        "model_1.evaluate(X,y)"
      ],
      "metadata": {
        "id": "UO7h_lFrHVVe",
        "colab": {
          "base_uri": "https://localhost:8080/"
        },
        "outputId": "61c6f231-81db-4813-dda7-ebcec68866f2"
      },
      "execution_count": 12,
      "outputs": [
        {
          "output_type": "stream",
          "name": "stdout",
          "text": [
            "32/32 [==============================] - 0s 1ms/step - loss: 0.6935 - accuracy: 0.5000\n"
          ]
        },
        {
          "output_type": "execute_result",
          "data": {
            "text/plain": [
              "[0.6934831142425537, 0.5]"
            ]
          },
          "metadata": {},
          "execution_count": 12
        }
      ]
    },
    {
      "cell_type": "code",
      "source": [
        "#Set random seed\n",
        "tf.random.set_seed(42)\n",
        "\n",
        "#Create model\n",
        "model_2 = tf.keras.Sequential([\n",
        "    tf.keras.layers.Dense(1),\n",
        "    tf.keras.layers.Dense(1),\n",
        "])\n",
        "#Compile model\n",
        "model_2.compile(loss=\"BinaryCrossentropy\",\n",
        "                optimizer=\"SGD\",\n",
        "                metrics=[\"accuracy\"])\n",
        "#Fit model\n",
        "model_2.fit(X, y, epochs=100, verbose=0)\n",
        "\n",
        "#Evaluate model\n",
        "model_2.evaluate(X,y)\n"
      ],
      "metadata": {
        "colab": {
          "base_uri": "https://localhost:8080/"
        },
        "id": "Ya81XCmEJnq8",
        "outputId": "17a79f7e-006f-49f4-d96d-90bb01364f65"
      },
      "execution_count": 13,
      "outputs": [
        {
          "output_type": "stream",
          "name": "stdout",
          "text": [
            "32/32 [==============================] - 0s 3ms/step - loss: 0.6933 - accuracy: 0.5000\n"
          ]
        },
        {
          "output_type": "execute_result",
          "data": {
            "text/plain": [
              "[0.6933314800262451, 0.5]"
            ]
          },
          "metadata": {},
          "execution_count": 13
        }
      ]
    },
    {
      "cell_type": "code",
      "source": [
        "#Set the random seed\n",
        "tf.random.set_seed(42)\n",
        "#Create the model \n",
        "model_3 = tf.keras.Sequential([\n",
        "    tf.keras.layers.Dense(100, activation=\"relu\"),\n",
        "    tf.keras.layers.Dense(1, activation=\"sigmoid\")\n",
        "])\n",
        "#Compile\n",
        "model_3.compile(loss=tf.keras.losses.BinaryCrossentropy(),\n",
        "                optimizer = tf.keras.optimizers.SGD(),\n",
        "                metrics=[\"accuracy\"])\n",
        "#Fit\n",
        "model_3.fit(X, y, epochs=100, verbose=0)\n",
        "#Evaluate\n",
        "model_3.evaluate(X,y)"
      ],
      "metadata": {
        "colab": {
          "base_uri": "https://localhost:8080/"
        },
        "id": "4oje_BrMMZ0k",
        "outputId": "d3ef012b-52da-41d9-f084-bd3e22437d05"
      },
      "execution_count": 14,
      "outputs": [
        {
          "output_type": "stream",
          "name": "stdout",
          "text": [
            "32/32 [==============================] - 1s 4ms/step - loss: 0.6630 - accuracy: 0.8830\n"
          ]
        },
        {
          "output_type": "execute_result",
          "data": {
            "text/plain": [
              "[0.6629530191421509, 0.8830000162124634]"
            ]
          },
          "metadata": {},
          "execution_count": 14
        }
      ]
    },
    {
      "cell_type": "markdown",
      "source": [
        "To visualize our models "
      ],
      "metadata": {
        "id": "B6Jov9e1ONdt"
      }
    },
    {
      "cell_type": "code",
      "source": [
        "import numpy as np\n"
      ],
      "metadata": {
        "id": "ZERiu7X0O4bN"
      },
      "execution_count": 15,
      "outputs": []
    },
    {
      "cell_type": "code",
      "source": [
        "\n",
        "def plot_decision_boundary(model, X, y):\n",
        "  \"\"\"\n",
        "  Plots the deision boundary created by a model predicting on X.\n",
        "  \"\"\"\n",
        "  #Define the axis boundaries of the plot\n",
        "  x_min, x_max = X[:,0].min() - 0.1, X[:, 0].max() +0.1\n",
        "  y_min, y_max = X[:,0].min() - 0.1, X[:, 0].max() +0.1\n",
        "\n",
        "  xx,yy = np.meshgrid(np.linspace(x_min, x_max, 100),\n",
        "                      np.linspace(y_min, y_max, 100))\n",
        "  \n",
        "  #create X value (weere going to make predictions on these)\n",
        "  x_in = np.c_[xx.ravel(), yy.ravel()]\n",
        "\n",
        "  #make prediction\n",
        "  y_pred = model.predict(x_in)\n",
        "\n",
        "  #check for multiclass\n",
        "  if len(y_pred[-1])>1:\n",
        "    print(\"doing multiclass classification\")\n",
        "    #we have to reshape our predicition to get them ready for plottig\n",
        "    y_pred = np.argmax(y_pred, axis=1).reshape(xx.shape)\n",
        "  else:\n",
        "    print(\"doing binary classification\")\n",
        "    y_pred = np.round(y_pred).reshape(xx.shape)\n",
        "\n",
        "  #Plot the decision boundary\n",
        "  plt.contourf(xx,yy,y_pred, cmap=plt.cm.RdYlBu, alpha=0.7)\n",
        "  plt.scatter(X[:,0], X[:, 0], c=y, s=40, cmap=plt.cm.RdYlBu)\n",
        "  plt.xlim(xx.min, xx.max())\n",
        "  plt.ylim(yy.min, yy.max())\n",
        "\n",
        "  "
      ],
      "metadata": {
        "id": "s5cSubIbOL31"
      },
      "execution_count": 16,
      "outputs": []
    },
    {
      "cell_type": "code",
      "source": [
        "def plot_decision_boundary2(model, X, y):\n",
        "  \"\"\"\n",
        "  Plots the decision boundary created by a model predicting on X.\n",
        "  This function has been adapted from two phenomenal resources:\n",
        "   1. CS231n - https://cs231n.github.io/neural-networks-case-study/\n",
        "   2. Made with ML basics - https://github.com/GokuMohandas/MadeWithML/blob/main/notebooks/08_Neural_Networks.ipynb\n",
        "  \"\"\"\n",
        "  # Define the axis boundaries of the plot and create a meshgrid\n",
        "  x_min, x_max = X[:, 0].min() - 0.1, X[:, 0].max() + 0.1\n",
        "  y_min, y_max = X[:, 1].min() - 0.1, X[:, 1].max() + 0.1\n",
        "  xx, yy = np.meshgrid(np.linspace(x_min, x_max, 100),\n",
        "                       np.linspace(y_min, y_max, 100))\n",
        "  \n",
        "  # Create X values (we're going to predict on all of these)\n",
        "  x_in = np.c_[xx.ravel(), yy.ravel()] # stack 2D arrays together: https://numpy.org/devdocs/reference/generated/numpy.c_.html\n",
        "  \n",
        "  # Make predictions using the trained model\n",
        "  y_pred = model.predict(x_in)\n",
        "\n",
        "  # Check for multi-class\n",
        "  if model.output_shape[-1] > 1: # checks the final dimension of the model's output shape, if this is > (greater than) 1, it's multi-class \n",
        "    print(\"doing multiclass classification...\")\n",
        "    # We have to reshape our predictions to get them ready for plotting\n",
        "    y_pred = np.argmax(y_pred, axis=1).reshape(xx.shape)\n",
        "  else:\n",
        "    print(\"doing binary classifcation...\")\n",
        "    y_pred = np.round(np.max(y_pred, axis=1)).reshape(xx.shape)\n",
        "  \n",
        "  # Plot decision boundary\n",
        "  plt.contourf(xx, yy, y_pred, cmap=plt.cm.RdYlBu, alpha=0.7)\n",
        "  plt.scatter(X[:, 0], X[:, 1], c=y, s=40, cmap=plt.cm.RdYlBu)\n",
        "  plt.xlim(xx.min(), xx.max())\n",
        "  plt.ylim(yy.min(), yy.max())"
      ],
      "metadata": {
        "id": "A5mvNXecTBjv"
      },
      "execution_count": 17,
      "outputs": []
    },
    {
      "cell_type": "code",
      "source": [
        "#Check ou the prediction our is making\n",
        "plot_decision_boundary2(model_2,X,y)\n",
        "                       "
      ],
      "metadata": {
        "colab": {
          "base_uri": "https://localhost:8080/",
          "height": 282
        },
        "id": "jihRKRgpRuRC",
        "outputId": "023ccbc0-f955-45c9-c72d-ee69759063d1"
      },
      "execution_count": 18,
      "outputs": [
        {
          "output_type": "stream",
          "name": "stdout",
          "text": [
            "doing binary classifcation...\n"
          ]
        },
        {
          "output_type": "display_data",
          "data": {
            "text/plain": [
              "<Figure size 432x288 with 1 Axes>"
            ],
            "image/png": "[encoded data removed]"
          },
          "metadata": {
            "needs_background": "light"
          }
        }
      ]
    },
    {
      "cell_type": "markdown",
      "source": [
        "Non Linearity"
      ],
      "metadata": {
        "id": "CAezNlxRmgJS"
      }
    },
    {
      "cell_type": "code",
      "source": [
        "#Set the random seed\n",
        "tf.random.set_seed(42)\n",
        "#Create the model \n",
        "model_4 = tf.keras.Sequential([\n",
        "    tf.keras.layers.Dense(1, activation=tf.keras.activations.relu),\n",
        "    \n",
        "])\n",
        "#Compile\n",
        "model_4.compile(loss=tf.keras.losses.BinaryCrossentropy(),\n",
        "                optimizer = tf.keras.optimizers.Adam(learning_rate=0.001),\n",
        "                metrics=[\"accuracy\"])\n",
        "#Fit\n",
        "history = model_4.fit(X, y, epochs=100)\n"
      ],
      "metadata": {
        "id": "E03UppY_meQR",
        "colab": {
          "base_uri": "https://localhost:8080/"
        },
        "outputId": "edd14873-40e9-4e12-b075-eddf5b5a3ca3"
      },
      "execution_count": 19,
      "outputs": [
        {
          "output_type": "stream",
          "name": "stdout",
          "text": [
            "Epoch 1/100\n",
            "32/32 [==============================] - 1s 2ms/step - loss: 4.2979 - accuracy: 0.4670\n",
            "Epoch 2/100\n",
            "32/32 [==============================] - 0s 2ms/step - loss: 4.2317 - accuracy: 0.4400\n",
            "Epoch 3/100\n",
            "32/32 [==============================] - 0s 2ms/step - loss: 4.1610 - accuracy: 0.4310\n",
            "Epoch 4/100\n",
            "32/32 [==============================] - 0s 4ms/step - loss: 4.1183 - accuracy: 0.4270\n",
            "Epoch 5/100\n",
            "32/32 [==============================] - 0s 4ms/step - loss: 4.0784 - accuracy: 0.4240\n",
            "Epoch 6/100\n",
            "32/32 [==============================] - 0s 3ms/step - loss: 3.9604 - accuracy: 0.4170\n",
            "Epoch 7/100\n",
            "32/32 [==============================] - 0s 4ms/step - loss: 3.8936 - accuracy: 0.4110\n",
            "Epoch 8/100\n",
            "32/32 [==============================] - 0s 3ms/step - loss: 3.7818 - accuracy: 0.4140\n",
            "Epoch 9/100\n",
            "32/32 [==============================] - 0s 5ms/step - loss: 3.7564 - accuracy: 0.4140\n",
            "Epoch 10/100\n",
            "32/32 [==============================] - 0s 6ms/step - loss: 3.7547 - accuracy: 0.4150\n",
            "Epoch 11/100\n",
            "32/32 [==============================] - 0s 2ms/step - loss: 3.7537 - accuracy: 0.4140\n",
            "Epoch 12/100\n",
            "32/32 [==============================] - 0s 2ms/step - loss: 3.7526 - accuracy: 0.4140\n",
            "Epoch 13/100\n",
            "32/32 [==============================] - 0s 4ms/step - loss: 3.7518 - accuracy: 0.4140\n",
            "Epoch 14/100\n",
            "32/32 [==============================] - 0s 4ms/step - loss: 3.7510 - accuracy: 0.4140\n",
            "Epoch 15/100\n",
            "32/32 [==============================] - 0s 4ms/step - loss: 3.7503 - accuracy: 0.4130\n",
            "Epoch 16/100\n",
            "32/32 [==============================] - 0s 5ms/step - loss: 3.7497 - accuracy: 0.4130\n",
            "Epoch 17/100\n",
            "32/32 [==============================] - 0s 3ms/step - loss: 3.7490 - accuracy: 0.4130\n",
            "Epoch 18/100\n",
            "32/32 [==============================] - 0s 2ms/step - loss: 3.7484 - accuracy: 0.4130\n",
            "Epoch 19/100\n",
            "32/32 [==============================] - 0s 2ms/step - loss: 3.7478 - accuracy: 0.4120\n",
            "Epoch 20/100\n",
            "32/32 [==============================] - 0s 1ms/step - loss: 3.7472 - accuracy: 0.4120\n",
            "Epoch 21/100\n",
            "32/32 [==============================] - 0s 7ms/step - loss: 3.7466 - accuracy: 0.4110\n",
            "Epoch 22/100\n",
            "32/32 [==============================] - 0s 3ms/step - loss: 3.7461 - accuracy: 0.4110\n",
            "Epoch 23/100\n",
            "32/32 [==============================] - 0s 4ms/step - loss: 3.7455 - accuracy: 0.4110\n",
            "Epoch 24/100\n",
            "32/32 [==============================] - 0s 4ms/step - loss: 3.7450 - accuracy: 0.4110\n",
            "Epoch 25/100\n",
            "32/32 [==============================] - 0s 3ms/step - loss: 3.7366 - accuracy: 0.4120\n",
            "Epoch 26/100\n",
            "32/32 [==============================] - 0s 6ms/step - loss: 3.7256 - accuracy: 0.4120\n",
            "Epoch 27/100\n",
            "32/32 [==============================] - 0s 3ms/step - loss: 3.7230 - accuracy: 0.4140\n",
            "Epoch 28/100\n",
            "32/32 [==============================] - 0s 3ms/step - loss: 3.7215 - accuracy: 0.4140\n",
            "Epoch 29/100\n",
            "32/32 [==============================] - 0s 3ms/step - loss: 3.7204 - accuracy: 0.4150\n",
            "Epoch 30/100\n",
            "32/32 [==============================] - 0s 3ms/step - loss: 3.7196 - accuracy: 0.4160\n",
            "Epoch 31/100\n",
            "32/32 [==============================] - 0s 3ms/step - loss: 3.7188 - accuracy: 0.4170\n",
            "Epoch 32/100\n",
            "32/32 [==============================] - 0s 3ms/step - loss: 3.7181 - accuracy: 0.4170\n",
            "Epoch 33/100\n",
            "32/32 [==============================] - 0s 2ms/step - loss: 3.7174 - accuracy: 0.4170\n",
            "Epoch 34/100\n",
            "32/32 [==============================] - 0s 2ms/step - loss: 3.7167 - accuracy: 0.4170\n",
            "Epoch 35/100\n",
            "32/32 [==============================] - 0s 2ms/step - loss: 3.7161 - accuracy: 0.4160\n",
            "Epoch 36/100\n",
            "32/32 [==============================] - 0s 4ms/step - loss: 3.7153 - accuracy: 0.4150\n",
            "Epoch 37/100\n",
            "32/32 [==============================] - 0s 3ms/step - loss: 3.7147 - accuracy: 0.4150\n",
            "Epoch 38/100\n",
            "32/32 [==============================] - 0s 4ms/step - loss: 3.7141 - accuracy: 0.4150\n",
            "Epoch 39/100\n",
            "32/32 [==============================] - 0s 3ms/step - loss: 3.7135 - accuracy: 0.4150\n",
            "Epoch 40/100\n",
            "32/32 [==============================] - 0s 3ms/step - loss: 3.7129 - accuracy: 0.4150\n",
            "Epoch 41/100\n",
            "32/32 [==============================] - 0s 3ms/step - loss: 3.7123 - accuracy: 0.4150\n",
            "Epoch 42/100\n",
            "32/32 [==============================] - 0s 2ms/step - loss: 3.7118 - accuracy: 0.4160\n",
            "Epoch 43/100\n",
            "32/32 [==============================] - 0s 2ms/step - loss: 3.7112 - accuracy: 0.4160\n",
            "Epoch 44/100\n",
            "32/32 [==============================] - 0s 2ms/step - loss: 3.7107 - accuracy: 0.4160\n",
            "Epoch 45/100\n",
            "32/32 [==============================] - 0s 2ms/step - loss: 3.7101 - accuracy: 0.4150\n",
            "Epoch 46/100\n",
            "32/32 [==============================] - 0s 3ms/step - loss: 3.7096 - accuracy: 0.4170\n",
            "Epoch 47/100\n",
            "32/32 [==============================] - 0s 2ms/step - loss: 3.7091 - accuracy: 0.4170\n",
            "Epoch 48/100\n",
            "32/32 [==============================] - 0s 3ms/step - loss: 3.7014 - accuracy: 0.4170\n",
            "Epoch 49/100\n",
            "32/32 [==============================] - 0s 3ms/step - loss: 3.6892 - accuracy: 0.4190\n",
            "Epoch 50/100\n",
            "32/32 [==============================] - 0s 2ms/step - loss: 3.6856 - accuracy: 0.4190\n",
            "Epoch 51/100\n",
            "32/32 [==============================] - 0s 1ms/step - loss: 3.6846 - accuracy: 0.4190\n",
            "Epoch 52/100\n",
            "32/32 [==============================] - 0s 2ms/step - loss: 3.6837 - accuracy: 0.4190\n",
            "Epoch 53/100\n",
            "32/32 [==============================] - 0s 2ms/step - loss: 3.6829 - accuracy: 0.4190\n",
            "Epoch 54/100\n",
            "32/32 [==============================] - 0s 3ms/step - loss: 3.6821 - accuracy: 0.4190\n",
            "Epoch 55/100\n",
            "32/32 [==============================] - 0s 4ms/step - loss: 3.6814 - accuracy: 0.4190\n",
            "Epoch 56/100\n",
            "32/32 [==============================] - 0s 2ms/step - loss: 3.6807 - accuracy: 0.4200\n",
            "Epoch 57/100\n",
            "32/32 [==============================] - 0s 4ms/step - loss: 3.6727 - accuracy: 0.4210\n",
            "Epoch 58/100\n",
            "32/32 [==============================] - 0s 3ms/step - loss: 3.6690 - accuracy: 0.4190\n",
            "Epoch 59/100\n",
            "32/32 [==============================] - 0s 3ms/step - loss: 3.6677 - accuracy: 0.4190\n",
            "Epoch 60/100\n",
            "32/32 [==============================] - 0s 5ms/step - loss: 3.6585 - accuracy: 0.4190\n",
            "Epoch 61/100\n",
            "32/32 [==============================] - 0s 3ms/step - loss: 3.6489 - accuracy: 0.4200\n",
            "Epoch 62/100\n",
            "32/32 [==============================] - 0s 2ms/step - loss: 3.6330 - accuracy: 0.4190\n",
            "Epoch 63/100\n",
            "32/32 [==============================] - 0s 1ms/step - loss: 3.6282 - accuracy: 0.4200\n",
            "Epoch 64/100\n",
            "32/32 [==============================] - 0s 2ms/step - loss: 3.6162 - accuracy: 0.4220\n",
            "Epoch 65/100\n",
            "32/32 [==============================] - 0s 1ms/step - loss: 3.6062 - accuracy: 0.4240\n",
            "Epoch 66/100\n",
            "32/32 [==============================] - 0s 2ms/step - loss: 3.6031 - accuracy: 0.4260\n",
            "Epoch 67/100\n",
            "32/32 [==============================] - 0s 2ms/step - loss: 3.6012 - accuracy: 0.4280\n",
            "Epoch 68/100\n",
            "32/32 [==============================] - 0s 4ms/step - loss: 3.5999 - accuracy: 0.4280\n",
            "Epoch 69/100\n",
            "32/32 [==============================] - 0s 2ms/step - loss: 3.5904 - accuracy: 0.4290\n",
            "Epoch 70/100\n",
            "32/32 [==============================] - 0s 2ms/step - loss: 3.5858 - accuracy: 0.4300\n",
            "Epoch 71/100\n",
            "32/32 [==============================] - 0s 1ms/step - loss: 3.5846 - accuracy: 0.4300\n",
            "Epoch 72/100\n",
            "32/32 [==============================] - 0s 2ms/step - loss: 3.5836 - accuracy: 0.4300\n",
            "Epoch 73/100\n",
            "32/32 [==============================] - 0s 3ms/step - loss: 3.5826 - accuracy: 0.4310\n",
            "Epoch 74/100\n",
            "32/32 [==============================] - 0s 3ms/step - loss: 3.5817 - accuracy: 0.4330\n",
            "Epoch 75/100\n",
            "32/32 [==============================] - 0s 3ms/step - loss: 3.5656 - accuracy: 0.4360\n",
            "Epoch 76/100\n",
            "32/32 [==============================] - 0s 2ms/step - loss: 3.5355 - accuracy: 0.4410\n",
            "Epoch 77/100\n",
            "32/32 [==============================] - 0s 2ms/step - loss: 3.5335 - accuracy: 0.4410\n",
            "Epoch 78/100\n",
            "32/32 [==============================] - 0s 3ms/step - loss: 3.5319 - accuracy: 0.4420\n",
            "Epoch 79/100\n",
            "32/32 [==============================] - 0s 2ms/step - loss: 3.5306 - accuracy: 0.4420\n",
            "Epoch 80/100\n",
            "32/32 [==============================] - 0s 3ms/step - loss: 3.5208 - accuracy: 0.4420\n",
            "Epoch 81/100\n",
            "32/32 [==============================] - 0s 2ms/step - loss: 3.5172 - accuracy: 0.4420\n",
            "Epoch 82/100\n",
            "32/32 [==============================] - 0s 2ms/step - loss: 3.5157 - accuracy: 0.4430\n",
            "Epoch 83/100\n",
            "32/32 [==============================] - 0s 3ms/step - loss: 3.5144 - accuracy: 0.4450\n",
            "Epoch 84/100\n",
            "32/32 [==============================] - 0s 3ms/step - loss: 3.5132 - accuracy: 0.4450\n",
            "Epoch 85/100\n",
            "32/32 [==============================] - 0s 2ms/step - loss: 3.5043 - accuracy: 0.4460\n",
            "Epoch 86/100\n",
            "32/32 [==============================] - 0s 2ms/step - loss: 3.5002 - accuracy: 0.4470\n",
            "Epoch 87/100\n",
            "32/32 [==============================] - 0s 2ms/step - loss: 3.4905 - accuracy: 0.4470\n",
            "Epoch 88/100\n",
            "32/32 [==============================] - 0s 2ms/step - loss: 3.4788 - accuracy: 0.4470\n",
            "Epoch 89/100\n",
            "32/32 [==============================] - 0s 2ms/step - loss: 3.4661 - accuracy: 0.4470\n",
            "Epoch 90/100\n",
            "32/32 [==============================] - 0s 3ms/step - loss: 3.4452 - accuracy: 0.4490\n",
            "Epoch 91/100\n",
            "32/32 [==============================] - 0s 3ms/step - loss: 3.4198 - accuracy: 0.4560\n",
            "Epoch 92/100\n",
            "32/32 [==============================] - 0s 2ms/step - loss: 3.4176 - accuracy: 0.4550\n",
            "Epoch 93/100\n",
            "32/32 [==============================] - 0s 2ms/step - loss: 3.4072 - accuracy: 0.4580\n",
            "Epoch 94/100\n",
            "32/32 [==============================] - 0s 2ms/step - loss: 3.4036 - accuracy: 0.4580\n",
            "Epoch 95/100\n",
            "32/32 [==============================] - 0s 2ms/step - loss: 3.3944 - accuracy: 0.4590\n",
            "Epoch 96/100\n",
            "32/32 [==============================] - 0s 2ms/step - loss: 3.3290 - accuracy: 0.4590\n",
            "Epoch 97/100\n",
            "32/32 [==============================] - 0s 2ms/step - loss: 3.2727 - accuracy: 0.4600\n",
            "Epoch 98/100\n",
            "32/32 [==============================] - 0s 1ms/step - loss: 3.2636 - accuracy: 0.4580\n",
            "Epoch 99/100\n",
            "32/32 [==============================] - 0s 2ms/step - loss: 3.2509 - accuracy: 0.4570\n",
            "Epoch 100/100\n",
            "32/32 [==============================] - 0s 1ms/step - loss: 3.2459 - accuracy: 0.4570\n"
          ]
        }
      ]
    },
    {
      "cell_type": "code",
      "source": [
        "#set random seed\n",
        "tf.random.set_seed(42)\n",
        "#create the model\n",
        "model_5 = tf.keras.Sequential([\n",
        "    tf.keras.layers.Dense(4, activation=tf.keras.activations.relu),\n",
        "    tf.keras.layers.Dense(4, activation=tf.keras.activations.relu),\n",
        "    tf.keras.layers.Dense(1, activation=tf.keras.activations.sigmoid),\n",
        "])\n",
        "#Compile model\n",
        "model_5.compile(loss=tf.keras.losses.BinaryCrossentropy(),\n",
        "                optimizer=tf.keras.optimizers.Adam(lr=0.03),\n",
        "                metrics=[\"accuracy\"])\n",
        "#fit \n",
        "history = model_5.fit(X, y, epochs=150)"
      ],
      "metadata": {
        "colab": {
          "base_uri": "https://localhost:8080/"
        },
        "id": "9rvpGM_gomZP",
        "outputId": "03817183-d867-48f2-b1de-d8dee343674f"
      },
      "execution_count": 20,
      "outputs": [
        {
          "output_type": "stream",
          "name": "stdout",
          "text": [
            "Epoch 1/150\n"
          ]
        },
        {
          "output_type": "stream",
          "name": "stderr",
          "text": [
            "/usr/local/lib/python3.7/dist-packages/keras/optimizer_v2/adam.py:105: UserWarning: The `lr` argument is deprecated, use `learning_rate` instead.\n",
            "  super(Adam, self).__init__(name, **kwargs)\n"
          ]
        },
        {
          "output_type": "stream",
          "name": "stdout",
          "text": [
            "32/32 [==============================] - 1s 2ms/step - loss: 0.6829 - accuracy: 0.5440\n",
            "Epoch 2/150\n",
            "32/32 [==============================] - 0s 2ms/step - loss: 0.6615 - accuracy: 0.5880\n",
            "Epoch 3/150\n",
            "32/32 [==============================] - 0s 2ms/step - loss: 0.5859 - accuracy: 0.7170\n",
            "Epoch 4/150\n",
            "32/32 [==============================] - 0s 2ms/step - loss: 0.4889 - accuracy: 0.7830\n",
            "Epoch 5/150\n",
            "32/32 [==============================] - 0s 2ms/step - loss: 0.3335 - accuracy: 0.9160\n",
            "Epoch 6/150\n",
            "32/32 [==============================] - 0s 2ms/step - loss: 0.2430 - accuracy: 0.9330\n",
            "Epoch 7/150\n",
            "32/32 [==============================] - 0s 2ms/step - loss: 0.1623 - accuracy: 0.9700\n",
            "Epoch 8/150\n",
            "32/32 [==============================] - 0s 2ms/step - loss: 0.1110 - accuracy: 0.9770\n",
            "Epoch 9/150\n",
            "32/32 [==============================] - 0s 2ms/step - loss: 0.1102 - accuracy: 0.9740\n",
            "Epoch 10/150\n",
            "32/32 [==============================] - 0s 2ms/step - loss: 0.0832 - accuracy: 0.9840\n",
            "Epoch 11/150\n",
            "32/32 [==============================] - 0s 2ms/step - loss: 0.1003 - accuracy: 0.9710\n",
            "Epoch 12/150\n",
            "32/32 [==============================] - 0s 2ms/step - loss: 0.1022 - accuracy: 0.9690\n",
            "Epoch 13/150\n",
            "32/32 [==============================] - 0s 2ms/step - loss: 0.0709 - accuracy: 0.9810\n",
            "Epoch 14/150\n",
            "32/32 [==============================] - 0s 2ms/step - loss: 0.0815 - accuracy: 0.9770\n",
            "Epoch 15/150\n",
            "32/32 [==============================] - 0s 2ms/step - loss: 0.0619 - accuracy: 0.9820\n",
            "Epoch 16/150\n",
            "32/32 [==============================] - 0s 2ms/step - loss: 0.0508 - accuracy: 0.9890\n",
            "Epoch 17/150\n",
            "32/32 [==============================] - 0s 2ms/step - loss: 0.0493 - accuracy: 0.9890\n",
            "Epoch 18/150\n",
            "32/32 [==============================] - 0s 2ms/step - loss: 0.0408 - accuracy: 0.9870\n",
            "Epoch 19/150\n",
            "32/32 [==============================] - 0s 2ms/step - loss: 0.0518 - accuracy: 0.9860\n",
            "Epoch 20/150\n",
            "32/32 [==============================] - 0s 2ms/step - loss: 0.0544 - accuracy: 0.9790\n",
            "Epoch 21/150\n",
            "32/32 [==============================] - 0s 2ms/step - loss: 0.0616 - accuracy: 0.9790\n",
            "Epoch 22/150\n",
            "32/32 [==============================] - 0s 2ms/step - loss: 0.0579 - accuracy: 0.9790\n",
            "Epoch 23/150\n",
            "32/32 [==============================] - 0s 2ms/step - loss: 0.1002 - accuracy: 0.9670\n",
            "Epoch 24/150\n",
            "32/32 [==============================] - 0s 2ms/step - loss: 0.0543 - accuracy: 0.9820\n",
            "Epoch 25/150\n",
            "32/32 [==============================] - 0s 2ms/step - loss: 0.0602 - accuracy: 0.9760\n",
            "Epoch 26/150\n",
            "32/32 [==============================] - 0s 2ms/step - loss: 0.0456 - accuracy: 0.9840\n",
            "Epoch 27/150\n",
            "32/32 [==============================] - 0s 2ms/step - loss: 0.0559 - accuracy: 0.9750\n",
            "Epoch 28/150\n",
            "32/32 [==============================] - 0s 2ms/step - loss: 0.0430 - accuracy: 0.9840\n",
            "Epoch 29/150\n",
            "32/32 [==============================] - 0s 2ms/step - loss: 0.0760 - accuracy: 0.9710\n",
            "Epoch 30/150\n",
            "32/32 [==============================] - 0s 2ms/step - loss: 0.0420 - accuracy: 0.9850\n",
            "Epoch 31/150\n",
            "32/32 [==============================] - 0s 2ms/step - loss: 0.0402 - accuracy: 0.9870\n",
            "Epoch 32/150\n",
            "32/32 [==============================] - 0s 2ms/step - loss: 0.0783 - accuracy: 0.9650\n",
            "Epoch 33/150\n",
            "32/32 [==============================] - 0s 2ms/step - loss: 0.0357 - accuracy: 0.9920\n",
            "Epoch 34/150\n",
            "32/32 [==============================] - 0s 2ms/step - loss: 0.0764 - accuracy: 0.9700\n",
            "Epoch 35/150\n",
            "32/32 [==============================] - 0s 2ms/step - loss: 0.0453 - accuracy: 0.9850\n",
            "Epoch 36/150\n",
            "32/32 [==============================] - 0s 2ms/step - loss: 0.0623 - accuracy: 0.9770\n",
            "Epoch 37/150\n",
            "32/32 [==============================] - 0s 2ms/step - loss: 0.0367 - accuracy: 0.9880\n",
            "Epoch 38/150\n",
            "32/32 [==============================] - 0s 2ms/step - loss: 0.0379 - accuracy: 0.9840\n",
            "Epoch 39/150\n",
            "32/32 [==============================] - 0s 2ms/step - loss: 0.0669 - accuracy: 0.9760\n",
            "Epoch 40/150\n",
            "32/32 [==============================] - 0s 2ms/step - loss: 0.1017 - accuracy: 0.9670\n",
            "Epoch 41/150\n",
            "32/32 [==============================] - 0s 2ms/step - loss: 0.1043 - accuracy: 0.9570\n",
            "Epoch 42/150\n",
            "32/32 [==============================] - 0s 2ms/step - loss: 0.0645 - accuracy: 0.9750\n",
            "Epoch 43/150\n",
            "32/32 [==============================] - 0s 2ms/step - loss: 0.0466 - accuracy: 0.9800\n",
            "Epoch 44/150\n",
            "32/32 [==============================] - 0s 2ms/step - loss: 0.0463 - accuracy: 0.9840\n",
            "Epoch 45/150\n",
            "32/32 [==============================] - 0s 2ms/step - loss: 0.0602 - accuracy: 0.9760\n",
            "Epoch 46/150\n",
            "32/32 [==============================] - 0s 2ms/step - loss: 0.0960 - accuracy: 0.9620\n",
            "Epoch 47/150\n",
            "32/32 [==============================] - 0s 2ms/step - loss: 0.0404 - accuracy: 0.9870\n",
            "Epoch 48/150\n",
            "32/32 [==============================] - 0s 2ms/step - loss: 0.0344 - accuracy: 0.9890\n",
            "Epoch 49/150\n",
            "32/32 [==============================] - 0s 2ms/step - loss: 0.0480 - accuracy: 0.9810\n",
            "Epoch 50/150\n",
            "32/32 [==============================] - 0s 2ms/step - loss: 0.0463 - accuracy: 0.9830\n",
            "Epoch 51/150\n",
            "32/32 [==============================] - 0s 2ms/step - loss: 0.0344 - accuracy: 0.9900\n",
            "Epoch 52/150\n",
            "32/32 [==============================] - 0s 2ms/step - loss: 0.0469 - accuracy: 0.9790\n",
            "Epoch 53/150\n",
            "32/32 [==============================] - 0s 2ms/step - loss: 0.0472 - accuracy: 0.9780\n",
            "Epoch 54/150\n",
            "32/32 [==============================] - 0s 2ms/step - loss: 0.0518 - accuracy: 0.9760\n",
            "Epoch 55/150\n",
            "32/32 [==============================] - 0s 2ms/step - loss: 0.0633 - accuracy: 0.9800\n",
            "Epoch 56/150\n",
            "32/32 [==============================] - 0s 2ms/step - loss: 0.0530 - accuracy: 0.9770\n",
            "Epoch 57/150\n",
            "32/32 [==============================] - 0s 2ms/step - loss: 0.0392 - accuracy: 0.9840\n",
            "Epoch 58/150\n",
            "32/32 [==============================] - 0s 2ms/step - loss: 0.0332 - accuracy: 0.9880\n",
            "Epoch 59/150\n",
            "32/32 [==============================] - 0s 2ms/step - loss: 0.0376 - accuracy: 0.9870\n",
            "Epoch 60/150\n",
            "32/32 [==============================] - 0s 2ms/step - loss: 0.0248 - accuracy: 0.9920\n",
            "Epoch 61/150\n",
            "32/32 [==============================] - 0s 2ms/step - loss: 0.0297 - accuracy: 0.9890\n",
            "Epoch 62/150\n",
            "32/32 [==============================] - 0s 2ms/step - loss: 0.0316 - accuracy: 0.9900\n",
            "Epoch 63/150\n",
            "32/32 [==============================] - 0s 2ms/step - loss: 0.0588 - accuracy: 0.9790\n",
            "Epoch 64/150\n",
            "32/32 [==============================] - 0s 2ms/step - loss: 0.0371 - accuracy: 0.9870\n",
            "Epoch 65/150\n",
            "32/32 [==============================] - 0s 2ms/step - loss: 0.0571 - accuracy: 0.9750\n",
            "Epoch 66/150\n",
            "32/32 [==============================] - 0s 3ms/step - loss: 0.0571 - accuracy: 0.9710\n",
            "Epoch 67/150\n",
            "32/32 [==============================] - 0s 2ms/step - loss: 0.0488 - accuracy: 0.9790\n",
            "Epoch 68/150\n",
            "32/32 [==============================] - 0s 2ms/step - loss: 0.0317 - accuracy: 0.9850\n",
            "Epoch 69/150\n",
            "32/32 [==============================] - 0s 2ms/step - loss: 0.0477 - accuracy: 0.9780\n",
            "Epoch 70/150\n",
            "32/32 [==============================] - 0s 2ms/step - loss: 0.0385 - accuracy: 0.9880\n",
            "Epoch 71/150\n",
            "32/32 [==============================] - 0s 2ms/step - loss: 0.0327 - accuracy: 0.9860\n",
            "Epoch 72/150\n",
            "32/32 [==============================] - 0s 2ms/step - loss: 0.0676 - accuracy: 0.9740\n",
            "Epoch 73/150\n",
            "32/32 [==============================] - 0s 2ms/step - loss: 0.0469 - accuracy: 0.9840\n",
            "Epoch 74/150\n",
            "32/32 [==============================] - 0s 2ms/step - loss: 0.0297 - accuracy: 0.9890\n",
            "Epoch 75/150\n",
            "32/32 [==============================] - 0s 2ms/step - loss: 0.0314 - accuracy: 0.9880\n",
            "Epoch 76/150\n",
            "32/32 [==============================] - 0s 2ms/step - loss: 0.0855 - accuracy: 0.9690\n",
            "Epoch 77/150\n",
            "32/32 [==============================] - 0s 2ms/step - loss: 0.0408 - accuracy: 0.9820\n",
            "Epoch 78/150\n",
            "32/32 [==============================] - 0s 2ms/step - loss: 0.0601 - accuracy: 0.9810\n",
            "Epoch 79/150\n",
            "32/32 [==============================] - 0s 2ms/step - loss: 0.0446 - accuracy: 0.9820\n",
            "Epoch 80/150\n",
            "32/32 [==============================] - 0s 2ms/step - loss: 0.0338 - accuracy: 0.9850\n",
            "Epoch 81/150\n",
            "32/32 [==============================] - 0s 2ms/step - loss: 0.0262 - accuracy: 0.9930\n",
            "Epoch 82/150\n",
            "32/32 [==============================] - 0s 2ms/step - loss: 0.0290 - accuracy: 0.9910\n",
            "Epoch 83/150\n",
            "32/32 [==============================] - 0s 2ms/step - loss: 0.0926 - accuracy: 0.9630\n",
            "Epoch 84/150\n",
            "32/32 [==============================] - 0s 2ms/step - loss: 0.0572 - accuracy: 0.9750\n",
            "Epoch 85/150\n",
            "32/32 [==============================] - 0s 2ms/step - loss: 0.0260 - accuracy: 0.9910\n",
            "Epoch 86/150\n",
            "32/32 [==============================] - 0s 2ms/step - loss: 0.0524 - accuracy: 0.9810\n",
            "Epoch 87/150\n",
            "32/32 [==============================] - 0s 2ms/step - loss: 0.0317 - accuracy: 0.9870\n",
            "Epoch 88/150\n",
            "32/32 [==============================] - 0s 2ms/step - loss: 0.0222 - accuracy: 0.9920\n",
            "Epoch 89/150\n",
            "32/32 [==============================] - 0s 2ms/step - loss: 0.0298 - accuracy: 0.9890\n",
            "Epoch 90/150\n",
            "32/32 [==============================] - 0s 2ms/step - loss: 0.0419 - accuracy: 0.9870\n",
            "Epoch 91/150\n",
            "32/32 [==============================] - 0s 2ms/step - loss: 0.0520 - accuracy: 0.9790\n",
            "Epoch 92/150\n",
            "32/32 [==============================] - 0s 2ms/step - loss: 0.1092 - accuracy: 0.9630\n",
            "Epoch 93/150\n",
            "32/32 [==============================] - 0s 2ms/step - loss: 0.0264 - accuracy: 0.9930\n",
            "Epoch 94/150\n",
            "32/32 [==============================] - 0s 2ms/step - loss: 0.0468 - accuracy: 0.9810\n",
            "Epoch 95/150\n",
            "32/32 [==============================] - 0s 2ms/step - loss: 0.0550 - accuracy: 0.9800\n",
            "Epoch 96/150\n",
            "32/32 [==============================] - 0s 2ms/step - loss: 0.1130 - accuracy: 0.9680\n",
            "Epoch 97/150\n",
            "32/32 [==============================] - 0s 2ms/step - loss: 0.0856 - accuracy: 0.9670\n",
            "Epoch 98/150\n",
            "32/32 [==============================] - 0s 2ms/step - loss: 0.0394 - accuracy: 0.9820\n",
            "Epoch 99/150\n",
            "32/32 [==============================] - 0s 2ms/step - loss: 0.0282 - accuracy: 0.9910\n",
            "Epoch 100/150\n",
            "32/32 [==============================] - 0s 2ms/step - loss: 0.0414 - accuracy: 0.9850\n",
            "Epoch 101/150\n",
            "32/32 [==============================] - 0s 2ms/step - loss: 0.0361 - accuracy: 0.9900\n",
            "Epoch 102/150\n",
            "32/32 [==============================] - 0s 2ms/step - loss: 0.0249 - accuracy: 0.9940\n",
            "Epoch 103/150\n",
            "32/32 [==============================] - 0s 2ms/step - loss: 0.0492 - accuracy: 0.9830\n",
            "Epoch 104/150\n",
            "32/32 [==============================] - 0s 2ms/step - loss: 0.0687 - accuracy: 0.9810\n",
            "Epoch 105/150\n",
            "32/32 [==============================] - 0s 2ms/step - loss: 0.0304 - accuracy: 0.9920\n",
            "Epoch 106/150\n",
            "32/32 [==============================] - 0s 2ms/step - loss: 0.0223 - accuracy: 0.9920\n",
            "Epoch 107/150\n",
            "32/32 [==============================] - 0s 2ms/step - loss: 0.0392 - accuracy: 0.9840\n",
            "Epoch 108/150\n",
            "32/32 [==============================] - 0s 2ms/step - loss: 0.0384 - accuracy: 0.9860\n",
            "Epoch 109/150\n",
            "32/32 [==============================] - 0s 2ms/step - loss: 0.0253 - accuracy: 0.9910\n",
            "Epoch 110/150\n",
            "32/32 [==============================] - 0s 2ms/step - loss: 0.0275 - accuracy: 0.9920\n",
            "Epoch 111/150\n",
            "32/32 [==============================] - 0s 2ms/step - loss: 0.0243 - accuracy: 0.9900\n",
            "Epoch 112/150\n",
            "32/32 [==============================] - 0s 2ms/step - loss: 0.0257 - accuracy: 0.9910\n",
            "Epoch 113/150\n",
            "32/32 [==============================] - 0s 2ms/step - loss: 0.0355 - accuracy: 0.9830\n",
            "Epoch 114/150\n",
            "32/32 [==============================] - 0s 2ms/step - loss: 0.0638 - accuracy: 0.9740\n",
            "Epoch 115/150\n",
            "32/32 [==============================] - 0s 2ms/step - loss: 0.0564 - accuracy: 0.9750\n",
            "Epoch 116/150\n",
            "32/32 [==============================] - 0s 2ms/step - loss: 0.0414 - accuracy: 0.9820\n",
            "Epoch 117/150\n",
            "32/32 [==============================] - 0s 2ms/step - loss: 0.0390 - accuracy: 0.9850\n",
            "Epoch 118/150\n",
            "32/32 [==============================] - 0s 2ms/step - loss: 0.0233 - accuracy: 0.9900\n",
            "Epoch 119/150\n",
            "32/32 [==============================] - 0s 2ms/step - loss: 0.0255 - accuracy: 0.9910\n",
            "Epoch 120/150\n",
            "32/32 [==============================] - 0s 2ms/step - loss: 0.0339 - accuracy: 0.9890\n",
            "Epoch 121/150\n",
            "32/32 [==============================] - 0s 2ms/step - loss: 0.0356 - accuracy: 0.9850\n",
            "Epoch 122/150\n",
            "32/32 [==============================] - 0s 2ms/step - loss: 0.0518 - accuracy: 0.9750\n",
            "Epoch 123/150\n",
            "32/32 [==============================] - 0s 2ms/step - loss: 0.0404 - accuracy: 0.9880\n",
            "Epoch 124/150\n",
            "32/32 [==============================] - 0s 2ms/step - loss: 0.0305 - accuracy: 0.9880\n",
            "Epoch 125/150\n",
            "32/32 [==============================] - 0s 2ms/step - loss: 0.0590 - accuracy: 0.9800\n",
            "Epoch 126/150\n",
            "32/32 [==============================] - 0s 2ms/step - loss: 0.0601 - accuracy: 0.9830\n",
            "Epoch 127/150\n",
            "32/32 [==============================] - 0s 2ms/step - loss: 0.0518 - accuracy: 0.9810\n",
            "Epoch 128/150\n",
            "32/32 [==============================] - 0s 2ms/step - loss: 0.0721 - accuracy: 0.9720\n",
            "Epoch 129/150\n",
            "32/32 [==============================] - 0s 2ms/step - loss: 0.0629 - accuracy: 0.9760\n",
            "Epoch 130/150\n",
            "32/32 [==============================] - 0s 2ms/step - loss: 0.0745 - accuracy: 0.9720\n",
            "Epoch 131/150\n",
            "32/32 [==============================] - 0s 2ms/step - loss: 0.0414 - accuracy: 0.9840\n",
            "Epoch 132/150\n",
            "32/32 [==============================] - 0s 2ms/step - loss: 0.1031 - accuracy: 0.9630\n",
            "Epoch 133/150\n",
            "32/32 [==============================] - 0s 2ms/step - loss: 0.0563 - accuracy: 0.9790\n",
            "Epoch 134/150\n",
            "32/32 [==============================] - 0s 3ms/step - loss: 0.0242 - accuracy: 0.9920\n",
            "Epoch 135/150\n",
            "32/32 [==============================] - 0s 2ms/step - loss: 0.0302 - accuracy: 0.9920\n",
            "Epoch 136/150\n",
            "32/32 [==============================] - 0s 2ms/step - loss: 0.0265 - accuracy: 0.9910\n",
            "Epoch 137/150\n",
            "32/32 [==============================] - 0s 2ms/step - loss: 0.0201 - accuracy: 0.9930\n",
            "Epoch 138/150\n",
            "32/32 [==============================] - 0s 2ms/step - loss: 0.0148 - accuracy: 0.9970\n",
            "Epoch 139/150\n",
            "32/32 [==============================] - 0s 2ms/step - loss: 0.0260 - accuracy: 0.9930\n",
            "Epoch 140/150\n",
            "32/32 [==============================] - 0s 3ms/step - loss: 0.0308 - accuracy: 0.9920\n",
            "Epoch 141/150\n",
            "32/32 [==============================] - 0s 2ms/step - loss: 0.0162 - accuracy: 0.9960\n",
            "Epoch 142/150\n",
            "32/32 [==============================] - 0s 2ms/step - loss: 0.0306 - accuracy: 0.9870\n",
            "Epoch 143/150\n",
            "32/32 [==============================] - 0s 2ms/step - loss: 0.0214 - accuracy: 0.9930\n",
            "Epoch 144/150\n",
            "32/32 [==============================] - 0s 2ms/step - loss: 0.0269 - accuracy: 0.9900\n",
            "Epoch 145/150\n",
            "32/32 [==============================] - 0s 2ms/step - loss: 0.0299 - accuracy: 0.9890\n",
            "Epoch 146/150\n",
            "32/32 [==============================] - 0s 2ms/step - loss: 0.0217 - accuracy: 0.9910\n",
            "Epoch 147/150\n",
            "32/32 [==============================] - 0s 2ms/step - loss: 0.0203 - accuracy: 0.9930\n",
            "Epoch 148/150\n",
            "32/32 [==============================] - 0s 3ms/step - loss: 0.0152 - accuracy: 0.9950\n",
            "Epoch 149/150\n",
            "32/32 [==============================] - 0s 2ms/step - loss: 0.0126 - accuracy: 0.9980\n",
            "Epoch 150/150\n",
            "32/32 [==============================] - 0s 2ms/step - loss: 0.0175 - accuracy: 0.9960\n"
          ]
        }
      ]
    },
    {
      "cell_type": "code",
      "source": [
        "plot_decision_boundary2(model_5, X,y)"
      ],
      "metadata": {
        "colab": {
          "base_uri": "https://localhost:8080/",
          "height": 282
        },
        "id": "yMlqXjP6q_Jc",
        "outputId": "1dcf385e-7527-4bd3-8cb8-08f1ec59b0cb"
      },
      "execution_count": 21,
      "outputs": [
        {
          "output_type": "stream",
          "name": "stdout",
          "text": [
            "doing binary classifcation...\n"
          ]
        },
        {
          "output_type": "display_data",
          "data": {
            "text/plain": [
              "<Figure size 432x288 with 1 Axes>"
            ],
            "image/png": "[encoded data removed]"
          },
          "metadata": {
            "needs_background": "light"
          }
        }
      ]
    },
    {
      "cell_type": "code",
      "source": [
        "from sklearn.model_selection import train_test_split\n",
        "X_train, X_test, y_train, y_test = train_test_split(X, y, test_size=0.2, random_state=42)"
      ],
      "metadata": {
        "id": "uDbyjzsotCDv"
      },
      "execution_count": 22,
      "outputs": []
    },
    {
      "cell_type": "code",
      "source": [
        "X_train.shape, X_test.shape, y_train.shape, y_test.shape"
      ],
      "metadata": {
        "colab": {
          "base_uri": "https://localhost:8080/"
        },
        "id": "BJfKMF7z00yg",
        "outputId": "b57f020b-9bc9-4ab6-c969-d0746addc4c1"
      },
      "execution_count": 23,
      "outputs": [
        {
          "output_type": "execute_result",
          "data": {
            "text/plain": [
              "((800, 2), (200, 2), (800,), (200,))"
            ]
          },
          "metadata": {},
          "execution_count": 23
        }
      ]
    },
    {
      "cell_type": "code",
      "source": [
        "#Set random seed\n",
        "tf.random.set_seed(42)\n",
        "\n",
        "#Create model\n",
        "model_6 = tf.keras.Sequential([\n",
        "    tf.keras.layers.Dense(4, activation=tf.keras.activations.relu),\n",
        "    tf.keras.layers.Dense(4, activation=tf.keras.activations.relu),\n",
        "    tf.keras.layers.Dense(1, activation=tf.keras.activations.sigmoid)\n",
        "])\n",
        "\n",
        "#Compile\n",
        "model_6.compile(loss=tf.keras.losses.BinaryCrossentropy(),\n",
        "                optimizer=tf.keras.optimizers.Adam(learning_rate=0.03),\n",
        "                metrics=[\"accuracy\"])\n",
        "\n",
        "#fit\n",
        "history_6 = model_6.fit(X_train, y_train, epochs =150, verbose=0)\n",
        "\n",
        "#Evaluate\n",
        "model_6.evaluate(X_test, y_test)"
      ],
      "metadata": {
        "colab": {
          "base_uri": "https://localhost:8080/"
        },
        "id": "3owI7-rezqXQ",
        "outputId": "6b142a59-0085-441b-9861-472004da1f90"
      },
      "execution_count": 29,
      "outputs": [
        {
          "output_type": "stream",
          "name": "stdout",
          "text": [
            "7/7 [==============================] - 0s 2ms/step - loss: 0.0828 - accuracy: 0.9650\n"
          ]
        },
        {
          "output_type": "execute_result",
          "data": {
            "text/plain": [
              "[0.0827760100364685, 0.9649999737739563]"
            ]
          },
          "metadata": {},
          "execution_count": 29
        }
      ]
    },
    {
      "cell_type": "code",
      "source": [
        "#Find ideal learning rate by creating a learning rate callback\n"
      ],
      "metadata": {
        "id": "iRM89eyK2LsG"
      },
      "execution_count": 26,
      "outputs": []
    },
    {
      "cell_type": "code",
      "source": [
        "#set random seed\n",
        "tf.random.set_seed(42)\n",
        "#Create model\n",
        "model_7 = tf.keras.Sequential([\n",
        "    tf.keras.layers.Dense(4, activation=tf.keras.activations.relu),\n",
        "    tf.keras.layers.Dense(4, activation=tf.keras.activations.relu),\n",
        "    tf.keras.layers.Dense(1, activation=tf.keras.activations.sigmoid)\n",
        "])\n",
        "\n",
        "#Compile\n",
        "model_7.compile(loss=tf.keras.losses.BinaryCrossentropy(),\n",
        "                optimizer=tf.keras.optimizers.Adam(),\n",
        "                metrics=[\"accuracy\"])\n",
        "\n",
        "#Create a learning rate callback\n",
        "lr_scheduler =tf.keras.callbacks.LearningRateScheduler(lambda epoch: 1e-4 * 10**(epoch/20))\n",
        "#fit\n",
        "history_7 = model_7.fit(X_train, y_train, epochs =75, callbacks=[lr_scheduler])"
      ],
      "metadata": {
        "colab": {
          "base_uri": "https://localhost:8080/"
        },
        "id": "Fho_cYO312vW",
        "outputId": "67730ae1-1ad2-4b75-9ba8-db2ebb9607d7"
      },
      "execution_count": 37,
      "outputs": [
        {
          "output_type": "stream",
          "name": "stdout",
          "text": [
            "Epoch 1/75\n",
            "25/25 [==============================] - 1s 2ms/step - loss: 0.6917 - accuracy: 0.5000 - lr: 1.0000e-04\n",
            "Epoch 2/75\n",
            "25/25 [==============================] - 0s 2ms/step - loss: 0.6910 - accuracy: 0.4988 - lr: 1.1220e-04\n",
            "Epoch 3/75\n",
            "25/25 [==============================] - 0s 1ms/step - loss: 0.6903 - accuracy: 0.4975 - lr: 1.2589e-04\n",
            "Epoch 4/75\n",
            "25/25 [==============================] - 0s 2ms/step - loss: 0.6897 - accuracy: 0.5075 - lr: 1.4125e-04\n",
            "Epoch 5/75\n",
            "25/25 [==============================] - 0s 2ms/step - loss: 0.6888 - accuracy: 0.5063 - lr: 1.5849e-04\n",
            "Epoch 6/75\n",
            "25/25 [==============================] - 0s 2ms/step - loss: 0.6881 - accuracy: 0.5075 - lr: 1.7783e-04\n",
            "Epoch 7/75\n",
            "25/25 [==============================] - 0s 2ms/step - loss: 0.6873 - accuracy: 0.5050 - lr: 1.9953e-04\n",
            "Epoch 8/75\n",
            "25/25 [==============================] - 0s 2ms/step - loss: 0.6864 - accuracy: 0.5088 - lr: 2.2387e-04\n",
            "Epoch 9/75\n",
            "25/25 [==============================] - 0s 2ms/step - loss: 0.6856 - accuracy: 0.5038 - lr: 2.5119e-04\n",
            "Epoch 10/75\n",
            "25/25 [==============================] - 0s 2ms/step - loss: 0.6849 - accuracy: 0.5100 - lr: 2.8184e-04\n",
            "Epoch 11/75\n",
            "25/25 [==============================] - 0s 2ms/step - loss: 0.6840 - accuracy: 0.5238 - lr: 3.1623e-04\n",
            "Epoch 12/75\n",
            "25/25 [==============================] - 0s 2ms/step - loss: 0.6833 - accuracy: 0.5275 - lr: 3.5481e-04\n",
            "Epoch 13/75\n",
            "25/25 [==============================] - 0s 2ms/step - loss: 0.6827 - accuracy: 0.5200 - lr: 3.9811e-04\n",
            "Epoch 14/75\n",
            "25/25 [==============================] - 0s 3ms/step - loss: 0.6820 - accuracy: 0.5288 - lr: 4.4668e-04\n",
            "Epoch 15/75\n",
            "25/25 [==============================] - 0s 3ms/step - loss: 0.6815 - accuracy: 0.5263 - lr: 5.0119e-04\n",
            "Epoch 16/75\n",
            "25/25 [==============================] - 0s 4ms/step - loss: 0.6809 - accuracy: 0.5337 - lr: 5.6234e-04\n",
            "Epoch 17/75\n",
            "25/25 [==============================] - 0s 4ms/step - loss: 0.6804 - accuracy: 0.5263 - lr: 6.3096e-04\n",
            "Epoch 18/75\n",
            "25/25 [==============================] - 0s 3ms/step - loss: 0.6798 - accuracy: 0.5375 - lr: 7.0795e-04\n",
            "Epoch 19/75\n",
            "25/25 [==============================] - 0s 4ms/step - loss: 0.6794 - accuracy: 0.5375 - lr: 7.9433e-04\n",
            "Epoch 20/75\n",
            "25/25 [==============================] - 0s 3ms/step - loss: 0.6789 - accuracy: 0.5412 - lr: 8.9125e-04\n",
            "Epoch 21/75\n",
            "25/25 [==============================] - 0s 3ms/step - loss: 0.6782 - accuracy: 0.5525 - lr: 0.0010\n",
            "Epoch 22/75\n",
            "25/25 [==============================] - 0s 4ms/step - loss: 0.6777 - accuracy: 0.5425 - lr: 0.0011\n",
            "Epoch 23/75\n",
            "25/25 [==============================] - 0s 3ms/step - loss: 0.6770 - accuracy: 0.5500 - lr: 0.0013\n",
            "Epoch 24/75\n",
            "25/25 [==============================] - 0s 3ms/step - loss: 0.6764 - accuracy: 0.5475 - lr: 0.0014\n",
            "Epoch 25/75\n",
            "25/25 [==============================] - 0s 4ms/step - loss: 0.6758 - accuracy: 0.5550 - lr: 0.0016\n",
            "Epoch 26/75\n",
            "25/25 [==============================] - 0s 4ms/step - loss: 0.6747 - accuracy: 0.5650 - lr: 0.0018\n",
            "Epoch 27/75\n",
            "25/25 [==============================] - 0s 7ms/step - loss: 0.6736 - accuracy: 0.5500 - lr: 0.0020\n",
            "Epoch 28/75\n",
            "25/25 [==============================] - 0s 7ms/step - loss: 0.6728 - accuracy: 0.5612 - lr: 0.0022\n",
            "Epoch 29/75\n",
            "25/25 [==============================] - 0s 5ms/step - loss: 0.6711 - accuracy: 0.5625 - lr: 0.0025\n",
            "Epoch 30/75\n",
            "25/25 [==============================] - 0s 5ms/step - loss: 0.6695 - accuracy: 0.5638 - lr: 0.0028\n",
            "Epoch 31/75\n",
            "25/25 [==============================] - 0s 2ms/step - loss: 0.6681 - accuracy: 0.5675 - lr: 0.0032\n",
            "Epoch 32/75\n",
            "25/25 [==============================] - 0s 2ms/step - loss: 0.6660 - accuracy: 0.5800 - lr: 0.0035\n",
            "Epoch 33/75\n",
            "25/25 [==============================] - 0s 2ms/step - loss: 0.6639 - accuracy: 0.5788 - lr: 0.0040\n",
            "Epoch 34/75\n",
            "25/25 [==============================] - 0s 2ms/step - loss: 0.6618 - accuracy: 0.5688 - lr: 0.0045\n",
            "Epoch 35/75\n",
            "25/25 [==============================] - 0s 2ms/step - loss: 0.6591 - accuracy: 0.5838 - lr: 0.0050\n",
            "Epoch 36/75\n",
            "25/25 [==============================] - 0s 2ms/step - loss: 0.6543 - accuracy: 0.5788 - lr: 0.0056\n",
            "Epoch 37/75\n",
            "25/25 [==============================] - 0s 2ms/step - loss: 0.6484 - accuracy: 0.6037 - lr: 0.0063\n",
            "Epoch 38/75\n",
            "25/25 [==============================] - 0s 2ms/step - loss: 0.6379 - accuracy: 0.6250 - lr: 0.0071\n",
            "Epoch 39/75\n",
            "25/25 [==============================] - 0s 2ms/step - loss: 0.6198 - accuracy: 0.6662 - lr: 0.0079\n",
            "Epoch 40/75\n",
            "25/25 [==============================] - 0s 2ms/step - loss: 0.5982 - accuracy: 0.7212 - lr: 0.0089\n",
            "Epoch 41/75\n",
            "25/25 [==============================] - 0s 2ms/step - loss: 0.5521 - accuracy: 0.7287 - lr: 0.0100\n",
            "Epoch 42/75\n",
            "25/25 [==============================] - 0s 2ms/step - loss: 0.5008 - accuracy: 0.7875 - lr: 0.0112\n",
            "Epoch 43/75\n",
            "25/25 [==============================] - 0s 2ms/step - loss: 0.4287 - accuracy: 0.8375 - lr: 0.0126\n",
            "Epoch 44/75\n",
            "25/25 [==============================] - 0s 2ms/step - loss: 0.3186 - accuracy: 0.9413 - lr: 0.0141\n",
            "Epoch 45/75\n",
            "25/25 [==============================] - 0s 2ms/step - loss: 0.2304 - accuracy: 0.9675 - lr: 0.0158\n",
            "Epoch 46/75\n",
            "25/25 [==============================] - 0s 2ms/step - loss: 0.1663 - accuracy: 0.9800 - lr: 0.0178\n",
            "Epoch 47/75\n",
            "25/25 [==============================] - 0s 2ms/step - loss: 0.1376 - accuracy: 0.9737 - lr: 0.0200\n",
            "Epoch 48/75\n",
            "25/25 [==============================] - 0s 2ms/step - loss: 0.1257 - accuracy: 0.9663 - lr: 0.0224\n",
            "Epoch 49/75\n",
            "25/25 [==============================] - 0s 2ms/step - loss: 0.1545 - accuracy: 0.9463 - lr: 0.0251\n",
            "Epoch 50/75\n",
            "25/25 [==============================] - 0s 2ms/step - loss: 0.0957 - accuracy: 0.9663 - lr: 0.0282\n",
            "Epoch 51/75\n",
            "25/25 [==============================] - 0s 2ms/step - loss: 0.0699 - accuracy: 0.9787 - lr: 0.0316\n",
            "Epoch 52/75\n",
            "25/25 [==============================] - 0s 2ms/step - loss: 0.0646 - accuracy: 0.9837 - lr: 0.0355\n",
            "Epoch 53/75\n",
            "25/25 [==============================] - 0s 2ms/step - loss: 0.0444 - accuracy: 0.9887 - lr: 0.0398\n",
            "Epoch 54/75\n",
            "25/25 [==============================] - 0s 2ms/step - loss: 0.0577 - accuracy: 0.9825 - lr: 0.0447\n",
            "Epoch 55/75\n",
            "25/25 [==============================] - 0s 2ms/step - loss: 0.0436 - accuracy: 0.9912 - lr: 0.0501\n",
            "Epoch 56/75\n",
            "25/25 [==============================] - 0s 2ms/step - loss: 0.0501 - accuracy: 0.9775 - lr: 0.0562\n",
            "Epoch 57/75\n",
            "25/25 [==============================] - 0s 2ms/step - loss: 0.1880 - accuracy: 0.9362 - lr: 0.0631\n",
            "Epoch 58/75\n",
            "25/25 [==============================] - 0s 2ms/step - loss: 0.1273 - accuracy: 0.9563 - lr: 0.0708\n",
            "Epoch 59/75\n",
            "25/25 [==============================] - 0s 2ms/step - loss: 0.1519 - accuracy: 0.9463 - lr: 0.0794\n",
            "Epoch 60/75\n",
            "25/25 [==============================] - 0s 2ms/step - loss: 0.3757 - accuracy: 0.8925 - lr: 0.0891\n",
            "Epoch 61/75\n",
            "25/25 [==============================] - 0s 2ms/step - loss: 0.1926 - accuracy: 0.9212 - lr: 0.1000\n",
            "Epoch 62/75\n",
            "25/25 [==============================] - 0s 2ms/step - loss: 0.1409 - accuracy: 0.9400 - lr: 0.1122\n",
            "Epoch 63/75\n",
            "25/25 [==============================] - 0s 2ms/step - loss: 0.1611 - accuracy: 0.9312 - lr: 0.1259\n",
            "Epoch 64/75\n",
            "25/25 [==============================] - 0s 2ms/step - loss: 0.2397 - accuracy: 0.9187 - lr: 0.1413\n",
            "Epoch 65/75\n",
            "25/25 [==============================] - 0s 3ms/step - loss: 0.0896 - accuracy: 0.9600 - lr: 0.1585\n",
            "Epoch 66/75\n",
            "25/25 [==============================] - 0s 2ms/step - loss: 0.0694 - accuracy: 0.9775 - lr: 0.1778\n",
            "Epoch 67/75\n",
            "25/25 [==============================] - 0s 2ms/step - loss: 0.1024 - accuracy: 0.9663 - lr: 0.1995\n",
            "Epoch 68/75\n",
            "25/25 [==============================] - 0s 2ms/step - loss: 0.4158 - accuracy: 0.8550 - lr: 0.2239\n",
            "Epoch 69/75\n",
            "25/25 [==============================] - 0s 2ms/step - loss: 0.1580 - accuracy: 0.9425 - lr: 0.2512\n",
            "Epoch 70/75\n",
            "25/25 [==============================] - 0s 2ms/step - loss: 0.4366 - accuracy: 0.8800 - lr: 0.2818\n",
            "Epoch 71/75\n",
            "25/25 [==============================] - 0s 2ms/step - loss: 0.1844 - accuracy: 0.9325 - lr: 0.3162\n",
            "Epoch 72/75\n",
            "25/25 [==============================] - 0s 2ms/step - loss: 0.2199 - accuracy: 0.9038 - lr: 0.3548\n",
            "Epoch 73/75\n",
            "25/25 [==============================] - 0s 2ms/step - loss: 0.0864 - accuracy: 0.9688 - lr: 0.3981\n",
            "Epoch 74/75\n",
            "25/25 [==============================] - 0s 2ms/step - loss: 0.0608 - accuracy: 0.9800 - lr: 0.4467\n",
            "Epoch 75/75\n",
            "25/25 [==============================] - 0s 2ms/step - loss: 0.1342 - accuracy: 0.9588 - lr: 0.5012\n"
          ]
        }
      ]
    },
    {
      "cell_type": "code",
      "source": [
        "#how to create confussion metrics\n",
        "from sklearn.metrics import confusion_matrix\n",
        "#make predictions\n",
        "y_preds = model_5.predict(X_test)\n",
        "\n",
        "#Create confusion matrix\n",
        "cf_matrix5 = confusion_matrix(y_test, tf.round(y_preds))\n",
        "cf_matrix5"
      ],
      "metadata": {
        "colab": {
          "base_uri": "https://localhost:8080/"
        },
        "id": "hOfMMVh-acEn",
        "outputId": "61a2ad79-ac61-4255-a0bd-d19cf8eed157"
      },
      "execution_count": 50,
      "outputs": [
        {
          "output_type": "execute_result",
          "data": {
            "text/plain": [
              "array([[ 99,   1],\n",
              "       [  0, 100]])"
            ]
          },
          "metadata": {},
          "execution_count": 50
        }
      ]
    },
    {
      "cell_type": "code",
      "source": [
        "#drip up the confusion matrix\n",
        "import seaborn as sns\n",
        "def plot_confusion_matrix(cf_matrix):\n",
        "  ax = sns.heatmap(cf_matrix, annot=True, cmap='Blues', fmt='g')\n",
        "\n",
        "  ax.set_title('Confusion Matrix with labels\\n\\n');\n",
        "  ax.set_xlabel('\\nPredicted Values')\n",
        "  ax.set_ylabel('Actual Values ');\n",
        "\n",
        "  ## Ticket labels - List must be in alphabetical order\n",
        "  ax.xaxis.set_ticklabels(['False','True'])\n",
        "  ax.yaxis.set_ticklabels(['False','True'])\n",
        "\n",
        "  ## Display the visualization of the Confusion Matrix.\n",
        "  plt.show()"
      ],
      "metadata": {
        "id": "k2UoKJLBdjEZ"
      },
      "execution_count": 48,
      "outputs": []
    },
    {
      "cell_type": "code",
      "source": [
        "plot_confusion_matrix(cf_matrix5)"
      ],
      "metadata": {
        "colab": {
          "base_uri": "https://localhost:8080/",
          "height": 337
        },
        "id": "nJR9Vt7gim4_",
        "outputId": "2d958695-06a2-4164-ce4e-cbc78d0ec1b2"
      },
      "execution_count": 51,
      "outputs": [
        {
          "output_type": "display_data",
          "data": {
            "text/plain": [
              "<Figure size 432x288 with 2 Axes>"
            ],
            "image/png": "[encoded data removed]"
          },
          "metadata": {
            "needs_background": "light"
          }
        }
      ]
    }
  ]
}